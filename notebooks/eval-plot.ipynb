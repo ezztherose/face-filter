{
 "cells": [
  {
   "cell_type": "code",
   "execution_count": 18,
   "metadata": {},
   "outputs": [],
   "source": [
    "import matplotlib.pyplot as plt"
   ]
  },
  {
   "cell_type": "code",
   "execution_count": 19,
   "metadata": {},
   "outputs": [],
   "source": [
    "# data\n",
    "q1 = [5, 5, 5, 5, 4, 3, 4, 4, 4, 5]\n",
    "q2 = [4, 3, 4, 4, 3, 4, 2, 3, 4, 4]\n",
    "xlab = ['Definitely not', 'Unlikely', 'Unsure', 'Likely', 'Definitly']"
   ]
  },
  {
   "cell_type": "code",
   "execution_count": 23,
   "metadata": {},
   "outputs": [],
   "source": [
    "question1 = ['Definitly','Definitly','Definitly','Definitly', 'Likely', 'Unsure',\n",
    "            'Likely','Likely','Likely', 'Definitly']\n",
    "question2 = ['Likely','Likely','Likely','Likely','Likely','Likely', 'Unsure',\n",
    "            'Unsure','Unsure', 'Unlikely']"
   ]
  },
  {
   "cell_type": "code",
   "execution_count": 26,
   "metadata": {},
   "outputs": [
    {
     "data": {
      "image/png": "[encoded data removed]",
      "text/plain": [
       "<Figure size 432x288 with 1 Axes>"
      ]
     },
     "metadata": {
      "needs_background": "light"
     },
     "output_type": "display_data"
    }
   ],
   "source": [
    "plt.hist(question1, alpha=0.5, label='playfulness')\n",
    "plt.hist(question2, alpha=0.5, label='social interaction')\n",
    "plt.legend(loc='upper right')\n",
    "#plt.xticks(q1,xlab)\n",
    "#set_xticklabels(xlab, rotation='vertical', fontsize=18)\n",
    "plt.show()"
   ]
  },
  {
   "cell_type": "code",
   "execution_count": null,
   "metadata": {},
   "outputs": [],
   "source": []
  }
 ],
 "metadata": {
  "kernelspec": {
   "display_name": "Python 3.10.6 64-bit",
   "language": "python",
   "name": "python3"
  },
  "language_info": {
   "codemirror_mode": {
    "name": "ipython",
    "version": 3
   },
   "file_extension": ".py",
   "mimetype": "text/x-python",
   "name": "python",
   "nbconvert_exporter": "python",
   "pygments_lexer": "ipython3",
   "version": "3.10.6"
  },
  "orig_nbformat": 4,
  "vscode": {
   "interpreter": {
    "hash": "aee8b7b246df8f9039afb4144a1f6fd8d2ca17a180786b69acc140d282b71a49"
   }
  }
 },
 "nbformat": 4,
 "nbformat_minor": 2
}
