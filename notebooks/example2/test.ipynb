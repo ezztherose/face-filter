{
 "cells": [
  {
   "cell_type": "markdown",
   "metadata": {},
   "source": [
    "# Testing with moving objects using open cv"
   ]
  },
  {
   "cell_type": "code",
   "execution_count": 1,
   "metadata": {},
   "outputs": [],
   "source": [
    "import cv2\n",
    "import numpy as np"
   ]
  },
  {
   "cell_type": "code",
   "execution_count": 2,
   "metadata": {},
   "outputs": [],
   "source": [
    "# Cascade Fiter \n",
    "fcas = cv2.CascadeClassifier('haarcascade_frontalface_default.xml')"
   ]
  },
  {
   "cell_type": "code",
   "execution_count": 3,
   "metadata": {},
   "outputs": [],
   "source": [
    "# reading imgages\n",
    "specs_ori = cv2.imread('imgs/glass.png', -1)\n",
    "mus_ori = cv2.imread('imgs/mustache.png', -1)"
   ]
  },
  {
   "cell_type": "code",
   "execution_count": 4,
   "metadata": {},
   "outputs": [
    {
     "data": {
      "text/plain": [
       "True"
      ]
     },
     "execution_count": 4,
     "metadata": {},
     "output_type": "execute_result"
    }
   ],
   "source": [
    "# init and starting camera\n",
    "campera_init = cv2.VideoCapture(0) \n",
    "campera_init.set(cv2.CAP_PROP_FPS, 30)"
   ]
  },
  {
   "cell_type": "code",
   "execution_count": 5,
   "metadata": {},
   "outputs": [],
   "source": [
    "def Overlay(src, overlay, pos=(0, 0), scale=1):\n",
    "    \"\"\"\n",
    "    Input:\n",
    "    - src: the camera input (from video feed)\n",
    "    - overlay: an reziesd image in a cube format\n",
    "    ----------------\n",
    "    * The method takes in a few parameters, pos and scale have default values.\n",
    "    * The overlay gets resized.\n",
    "    * overlay, and src, gets split up into separate variables with .shape\n",
    "    * Putting the forground/background inb correct order\n",
    "    * loop:\n",
    "        * loop through matrix\n",
    "        * set alpha \n",
    "        * set new src\n",
    "    * return src\n",
    "    \"\"\"\n",
    "    # resize the overlay \n",
    "    overlay = cv2.resize(overlay, (0, 0), fx=scale, fy=scale)\n",
    "\n",
    "    # Size of foreground\n",
    "    h, w, _ = overlay.shape\n",
    "\n",
    "    # Size- background img\n",
    "    rows, cols, _ = src.shape\n",
    "\n",
    "    # pos foreground/overlay img\n",
    "    y, x = pos[0], pos[1]  \n",
    "\n",
    "    for i in range(h):\n",
    "        for j in range(w):\n",
    "            if x + i >= rows or y + j >= cols:\n",
    "                continue\n",
    "            # read the alpha channel - controlling the RGB for the img\n",
    "            alpha = float(overlay[i][j][3] / 255.0)  \n",
    "            src[x + i][y + j] = alpha * overlay[i][j][:3] + (1 - alpha) * src[x + i][y + j]\n",
    "    return src"
   ]
  },
  {
   "cell_type": "code",
   "execution_count": 6,
   "metadata": {},
   "outputs": [],
   "source": [
    "# Program loop\n",
    "def Run() -> None:\n",
    "    while 1:\n",
    "        ret, img = campera_init.read()\n",
    "        gray = cv2.cvtColor(img, cv2.COLOR_BGR2GRAY)\n",
    "        faces = fcas.detectMultiScale(img, 1.2, 5, 0, (120, 120), (350, 350))\n",
    "    \n",
    "        for (x, y, w, h) in faces:\n",
    "            if h > 0 and w > 0:\n",
    "                glass_symin = int(y + 1.5 * h / 5)\n",
    "                glass_symax = int(y + 2.5 * h / 5)\n",
    "                sh_glass = glass_symax - glass_symin\n",
    " \n",
    "                li_symin = int(y + 1.5 *h / 6)\n",
    "                li_symax = int(y + 2.5 * h / 6)\n",
    "                sh_li = li_symax - li_symin\n",
    "\n",
    "                mus_symin = int(y + 3.5 * h / 6)\n",
    "                mus_symax = int(y + 5 * h / 6)\n",
    "                sh_mus = mus_symax - mus_symin\n",
    "\n",
    "                face_glass_roi_color = img[glass_symin:glass_symax, x:x + w]\n",
    "                face_mus_roi_color = img[mus_symin:mus_symax, x:x + w]\n",
    "\n",
    "                specs = cv2.resize(specs_ori, (w, sh_glass), interpolation=cv2.INTER_CUBIC)\n",
    "                mustache = cv2.resize(mus_ori, (w, sh_mus), interpolation=cv2.INTER_CUBIC)\n",
    "\n",
    "                Overlay(face_glass_roi_color, specs)\n",
    "                Overlay(face_mus_roi_color, mustache)\n",
    "\n",
    "        cv2.imshow('Test', img)\n",
    "        key = cv2.waitKey(1) & 0xFF\n",
    "        if key == ord(\"q\"): \n",
    "            break\n",
    "\n",
    "        k = cv2.waitKey(30) & 0xff\n",
    "        if k == 27:\n",
    "            cv2.imwrite('img.jpg', img)\n",
    "            break"
   ]
  },
  {
   "cell_type": "code",
   "execution_count": 7,
   "metadata": {},
   "outputs": [
    {
     "ename": "IndexError",
     "evalue": "index 3 is out of bounds for axis 0 with size 3",
     "output_type": "error",
     "traceback": [
      "\u001b[0;31m---------------------------------------------------------------------------\u001b[0m",
      "\u001b[0;31mIndexError\u001b[0m                                Traceback (most recent call last)",
      "\u001b[1;32m/Users/ezz/fun/face-filter/example2/test.ipynb Cell 8\u001b[0m in \u001b[0;36m<cell line: 1>\u001b[0;34m()\u001b[0m\n\u001b[0;32m----> <a href='vscode-notebook-cell:/Users/ezz/fun/face-filter/example2/test.ipynb#X10sZmlsZQ%3D%3D?line=0'>1</a>\u001b[0m Run()\n\u001b[1;32m      <a href='vscode-notebook-cell:/Users/ezz/fun/face-filter/example2/test.ipynb#X10sZmlsZQ%3D%3D?line=1'>2</a>\u001b[0m campera_init\u001b[39m.\u001b[39mrelease()\n\u001b[1;32m      <a href='vscode-notebook-cell:/Users/ezz/fun/face-filter/example2/test.ipynb#X10sZmlsZQ%3D%3D?line=2'>3</a>\u001b[0m cv2\u001b[39m.\u001b[39mdestroyAllWindows()\n",
      "\u001b[1;32m/Users/ezz/fun/face-filter/example2/test.ipynb Cell 8\u001b[0m in \u001b[0;36mRun\u001b[0;34m()\u001b[0m\n\u001b[1;32m     <a href='vscode-notebook-cell:/Users/ezz/fun/face-filter/example2/test.ipynb#X10sZmlsZQ%3D%3D?line=36'>37</a>\u001b[0m         \u001b[39m#Overlay(face_cigar_roi_color, cigar, (int(w / 2), int(sh_cigar / 2)))\u001b[39;00m\n\u001b[1;32m     <a href='vscode-notebook-cell:/Users/ezz/fun/face-filter/example2/test.ipynb#X10sZmlsZQ%3D%3D?line=37'>38</a>\u001b[0m         Overlay(face_mus_roi_color, mustache)\n\u001b[0;32m---> <a href='vscode-notebook-cell:/Users/ezz/fun/face-filter/example2/test.ipynb#X10sZmlsZQ%3D%3D?line=38'>39</a>\u001b[0m         Overlay(f_l_r_c, lion)\n\u001b[1;32m     <a href='vscode-notebook-cell:/Users/ezz/fun/face-filter/example2/test.ipynb#X10sZmlsZQ%3D%3D?line=40'>41</a>\u001b[0m cv2\u001b[39m.\u001b[39mimshow(\u001b[39m'\u001b[39m\u001b[39mTest\u001b[39m\u001b[39m'\u001b[39m, img)\n\u001b[1;32m     <a href='vscode-notebook-cell:/Users/ezz/fun/face-filter/example2/test.ipynb#X10sZmlsZQ%3D%3D?line=41'>42</a>\u001b[0m key \u001b[39m=\u001b[39m cv2\u001b[39m.\u001b[39mwaitKey(\u001b[39m1\u001b[39m) \u001b[39m&\u001b[39m \u001b[39m0xFF\u001b[39m\n",
      "\u001b[1;32m/Users/ezz/fun/face-filter/example2/test.ipynb Cell 8\u001b[0m in \u001b[0;36mOverlay\u001b[0;34m(src, overlay, pos, scale)\u001b[0m\n\u001b[1;32m     <a href='vscode-notebook-cell:/Users/ezz/fun/face-filter/example2/test.ipynb#X10sZmlsZQ%3D%3D?line=16'>17</a>\u001b[0m             \u001b[39mcontinue\u001b[39;00m\n\u001b[1;32m     <a href='vscode-notebook-cell:/Users/ezz/fun/face-filter/example2/test.ipynb#X10sZmlsZQ%3D%3D?line=17'>18</a>\u001b[0m         \u001b[39m# read the alpha channel - controlling the RGB for the img\u001b[39;00m\n\u001b[0;32m---> <a href='vscode-notebook-cell:/Users/ezz/fun/face-filter/example2/test.ipynb#X10sZmlsZQ%3D%3D?line=18'>19</a>\u001b[0m         alpha \u001b[39m=\u001b[39m \u001b[39mfloat\u001b[39m(overlay[i][j][\u001b[39m3\u001b[39;49m] \u001b[39m/\u001b[39m \u001b[39m255.0\u001b[39m)  \n\u001b[1;32m     <a href='vscode-notebook-cell:/Users/ezz/fun/face-filter/example2/test.ipynb#X10sZmlsZQ%3D%3D?line=19'>20</a>\u001b[0m         src[x \u001b[39m+\u001b[39m i][y \u001b[39m+\u001b[39m j] \u001b[39m=\u001b[39m alpha \u001b[39m*\u001b[39m overlay[i][j][:\u001b[39m3\u001b[39m] \u001b[39m+\u001b[39m (\u001b[39m1\u001b[39m \u001b[39m-\u001b[39m alpha) \u001b[39m*\u001b[39m src[x \u001b[39m+\u001b[39m i][y \u001b[39m+\u001b[39m j]\n\u001b[1;32m     <a href='vscode-notebook-cell:/Users/ezz/fun/face-filter/example2/test.ipynb#X10sZmlsZQ%3D%3D?line=20'>21</a>\u001b[0m \u001b[39mreturn\u001b[39;00m src\n",
      "\u001b[0;31mIndexError\u001b[0m: index 3 is out of bounds for axis 0 with size 3"
     ]
    },
    {
     "ename": "",
     "evalue": "",
     "output_type": "error",
     "traceback": [
      "\u001b[1;31mThe Kernel crashed while executing code in the the current cell or a previous cell. Please review the code in the cell(s) to identify a possible cause of the failure. Click <a href='https://aka.ms/vscodeJupyterKernelCrash'>here</a> for more info. View Jupyter <a href='command:jupyter.viewOutput'>log</a> for further details."
     ]
    }
   ],
   "source": [
    "Run()\n",
    "campera_init.release()\n",
    "cv2.destroyAllWindows()"
   ]
  },
  {
   "cell_type": "code",
   "execution_count": null,
   "metadata": {},
   "outputs": [],
   "source": []
  },
  {
   "cell_type": "code",
   "execution_count": null,
   "metadata": {},
   "outputs": [],
   "source": []
  },
  {
   "cell_type": "code",
   "execution_count": null,
   "metadata": {},
   "outputs": [],
   "source": []
  }
 ],
 "metadata": {
  "kernelspec": {
   "display_name": "Python 3.10.6 64-bit",
   "language": "python",
   "name": "python3"
  },
  "language_info": {
   "codemirror_mode": {
    "name": "ipython",
    "version": 3
   },
   "file_extension": ".py",
   "mimetype": "text/x-python",
   "name": "python",
   "nbconvert_exporter": "python",
   "pygments_lexer": "ipython3",
   "version": "3.10.6"
  },
  "orig_nbformat": 4,
  "vscode": {
   "interpreter": {
    "hash": "aee8b7b246df8f9039afb4144a1f6fd8d2ca17a180786b69acc140d282b71a49"
   }
  }
 },
 "nbformat": 4,
 "nbformat_minor": 2
}
